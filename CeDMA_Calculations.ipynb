{
 "cells": [
  {
   "cell_type": "markdown",
   "metadata": {},
   "source": [
    "Valsecchi et al. (2014) show that, in the limit of large $M_{\\rm p}/M_\\star$ and conservative mass transfer, $a/a_0 = \\left(M_{\\rm p}/M_{\\rm p,\\ 0} \\right)^{-1/3}$ (Eqn 14), where $a/a_0$ is the final/initial semi-major axis and $M_{\\rm p}/M_{\\rm p,\\ 0}$ the final/initial planetary mass. Based on this equation, where would we expect the remnants of hot Jupiters that have lost their atmospheres to end up?"
   ]
  },
  {
   "cell_type": "code",
   "execution_count": 1,
   "metadata": {
    "collapsed": false
   },
   "outputs": [],
   "source": [
    "%matplotlib inline\n",
    "import numpy as np\n",
    "import matplotlib.pyplot as plt\n",
    "from scipy import interpolate\n",
    "from scipy.optimize import brentq\n",
    "import matplotlib._cntr as cntr\n",
    "\n",
    "import astropy.units as u\n",
    "from astropy.units import cds\n",
    "from astropy.table import Table\n",
    "\n",
    "plt.rcParams['contour.negative_linestyle'] = 'solid'\n",
    "\n",
    "#Default aspect ratio for google slides\n",
    "aspect_ratio = 4./3\n",
    "default_fig_size = 6. #inches\n",
    "default_fig_width = aspect_ratio*default_fig_size\n",
    "default_fig_height = default_fig_size #\"Heighth\" is not a word."
   ]
  },
  {
   "cell_type": "code",
   "execution_count": 2,
   "metadata": {
    "collapsed": false
   },
   "outputs": [
    {
     "name": "stdout",
     "output_type": "stream",
     "text": [
      "9.6 h\n"
     ]
    }
   ],
   "source": [
    "def calc_smallq_roche_limit(q, Rp=0.1):\n",
    "    return (q/3.)**(-1./3)*Rp\n",
    "\n",
    "def Rappaport_Roche_limit(Mp=None, Rp=None, rhop=None, incompressible=False):\n",
    "    #Returns Roche limit period for given density\n",
    "    #  based on Rappaport+ (2013) ApJL 773, L15 -- \n",
    "    #  http://iopscience.iop.org/article/10.1088/2041-8205/773/1/L15/meta\n",
    "\n",
    "    if(rhop is None):\n",
    "        rhop = Mp/(4.*np.pi/3.*Rp**3.)\n",
    "\n",
    "    #For a planet comprised of a highly compressible fluid\n",
    "    period0 = 9.6/24.*u.day #days\n",
    "\n",
    "    #A body comprised of an incompressible fluid with negligible bulk tensile strength\n",
    "    if(incompressible):\n",
    "        period0 = 12.6/24.*u.day #days\n",
    "          \n",
    "    return period0*np.sqrt(1.*u.g/u.cm**3/(rhop.to('g/cm^3')))\n",
    "\n",
    "#Returns period or semi-major axis, given the other\n",
    "#  P in days, a in AU, and Mstar in solar masses\n",
    "def Keplers_Third_Law(P=None, a=None, Mstar=1.*cds.Msun):\n",
    "\n",
    "    bigG = 4.*np.pi*np.pi/cds.Msun*(cds.au*cds.au*cds.au)/(cds.yr*cds.yr)\n",
    "\n",
    "    if((P is None) and (a is None)):\n",
    "        raise ValueError(\"P or a must be given!\")\n",
    "    elif(a is not None):\n",
    "        return (a*a*a/(bigG*Mstar/(4.*np.pi*np.pi)))**(1./2)\n",
    "    elif(P is not None):\n",
    "        return (P*P*(bigG*Mstar/(4.*np.pi*np.pi)))**(1./3)\n",
    "\n",
    "print(Rappaport_Roche_limit(rhop=1*u.g/u.cm**3).to('hour'))"
   ]
  },
  {
   "cell_type": "code",
   "execution_count": 3,
   "metadata": {
    "collapsed": false
   },
   "outputs": [
    {
     "name": "stdout",
     "output_type": "stream",
     "text": [
      "(0.02217335479484554, 0.35913876991932986, 1.2059723035426975)\n"
     ]
    }
   ],
   "source": [
    "#typical hot Jupiter\n",
    "Mp = 1.*cds.Mjup\n",
    "Rp = 1.*cds.Rjup\n",
    "Mcore = 10.*cds.Mgeo\n",
    "\n",
    "#the Sun\n",
    "Ms = 1.*cds.Msun\n",
    "Rs = 1.*cds.Rsun\n",
    "\n",
    "q = (Mp.to('kg')/Ms.to('kg')).value\n",
    "\n",
    "a_Roche = calc_smallq_roche_limit(q, Rp=Rp)\n",
    "P_Roche = Rappaport_Roche_limit(Mp, Rp)\n",
    "\n",
    "#So where would the planet end up?\n",
    "a = a_Roche*(Mcore/Mp)**(-1./3)\n",
    "P = Keplers_Third_Law(a=a, Mstar=Ms)\n",
    "print(a.to('au').value, P_Roche.to('day').value, P.to('day').value)"
   ]
  },
  {
   "cell_type": "markdown",
   "metadata": {},
   "source": [
    "Not too bad!"
   ]
  },
  {
   "cell_type": "code",
   "execution_count": 13,
   "metadata": {
    "collapsed": false
   },
   "outputs": [
    {
     "name": "stdout",
     "output_type": "stream",
     "text": [
      "10.9711384705\n"
     ]
    }
   ],
   "source": [
    "#These models come from Lopez & Fortney (2013 -- http://iopscience.iop.org/article/10.1088/0004-637X/792/1/1/meta)\n",
    "\n",
    "def Lopez_core_radius(Mcore):\n",
    "    MEarth = 1.*cds.Mgeo\n",
    "    REarth = 1.*cds.Rgeo\n",
    "    \n",
    "    return ((Mcore/MEarth).value)**(0.25)*REarth\n",
    "\n",
    "def Lopez_Renv(Mp, fenv=0.05, Fp=1., age=5e9*u.year):\n",
    "    MEarth = 1.*cds.Mgeo\n",
    "    fenv_baseline = 0.05\n",
    "    Fp_baseline = 1.\n",
    "    age_baseline = 5e9*u.year\n",
    "    \n",
    "    return 2.06*cds.Rgeo*((Mp/MEarth).value)**(-0.21)*\\\n",
    "            (fenv/fenv_baseline)**(0.59)*\\\n",
    "            (Fp/Fp_baseline)**(0.044)*\\\n",
    "            ((age/age_baseline).value)**(-0.18)\n",
    "\n",
    "#Ignores the apparently small contribution from the radiative exterior\n",
    "def Lopez_superearth_radius(Mp, fenv=0.05, Fp=1., age=5e9*u.year):\n",
    "    Mcore = (1. - fenv)*Mp\n",
    "#    Mcore = Mp\n",
    "    Rcore = Lopez_core_radius(Mcore)\n",
    "    \n",
    "    Renv = Lopez_Renv(Mp, fenv=fenv, Fp=Fp, age=age)\n",
    "    \n",
    "    return (Rcore + Renv).value\n",
    "\n",
    "print(Lopez_superearth_radius(20.*cds.Mgeo, fenv=19./20, Fp=1000., age=2e9*u.year))"
   ]
  },
  {
   "cell_type": "code",
   "execution_count": 5,
   "metadata": {
    "collapsed": false
   },
   "outputs": [
    {
     "name": "stdout",
     "output_type": "stream",
     "text": [
      "{8: '8', 2: '$2\\\\ {\\\\rm R_{Earth}}$', 4: '4', 6: '6'}\n"
     ]
    },
    {
     "data": {
      "text/plain": [
       "(-3.1, 0.1)"
      ]
     },
     "execution_count": 5,
     "metadata": {},
     "output_type": "execute_result"
    },
    {
     "name": "stderr",
     "output_type": "stream",
     "text": [
      "//anaconda/lib/python2.7/site-packages/matplotlib/text.py:52: UnicodeWarning: Unicode equal comparison failed to convert both arguments to Unicode - interpreting them as being unequal\n",
      "  if rotation in ('horizontal', None):\n",
      "//anaconda/lib/python2.7/site-packages/matplotlib/text.py:54: UnicodeWarning: Unicode equal comparison failed to convert both arguments to Unicode - interpreting them as being unequal\n",
      "  elif rotation == 'vertical':\n"
     ]
    },
    {
     "data": {
      "image/png": "[encoded data removed]",
      "text/plain": [
       "<matplotlib.figure.Figure at 0x10b2a7c50>"
      ]
     },
     "metadata": {},
     "output_type": "display_data"
    }
   ],
   "source": [
    "Mcores = 10**(np.linspace(0., 2., 100))*cds.Mgeo\n",
    "fenvs = 10**(np.linspace(-3., 0., 101))\n",
    "#Drop the very last one so I don't get a divide-by-zero error\n",
    "fenvs = fenvs[:-1]\n",
    "\n",
    "Mps = np.empty((len(Mcores), len(fenvs)))\n",
    "Rps = np.empty((len(Mcores), len(fenvs)))\n",
    "for i in range(len(Mcores)):\n",
    "    for j in range(len(fenvs)):\n",
    "        \n",
    "        cur_Mp = Mcores[i]/(1. - fenvs[j])\n",
    "        Mps[i,j] = cur_Mp.value\n",
    "        Rps[i,j] = Lopez_superearth_radius(cur_Mp, fenv=fenvs[j])\n",
    "\n",
    "fenvs = np.outer(np.ones_like(fenvs), fenvs)\n",
    "Mcores = np.outer(Mcores, np.ones_like(Mcores))\n",
    "\n",
    "fig = plt.figure(figsize=(default_fig_width, default_fig_height))\n",
    "ax = fig.add_subplot(111)\n",
    "\n",
    "locations = [(0.2, -2.), (0.2, -1.), (0.2, -0.5), (0.2, -0.1)]\n",
    "lvls = [2, 4, 6, 8]\n",
    "fmt = {lvls[0]: '$%i\\ {\\\\rm R_{Earth}}$' % lvls[0]}\n",
    "fmt.update({lvls[i]: '%i' % lvls[i] for i in range(1, len(lvls))})\n",
    "print(fmt)\n",
    "CS = ax.contour(np.log10(Mcores), np.log10(fenvs), Rps, colors='r', linewidths=6, levels=lvls)\n",
    "ax.clabel(CS, inline=1, fontsize=24, fmt=fmt, manual=locations)\n",
    "\n",
    "locations = [(0.5, -2.3), (0.7, -2.3), (1., -2.3), (0.8, 0.)]\n",
    "lvls = [3, 5, 10, 20]\n",
    "fmt = {lvls[0]: '$%i\\ {\\\\rm M_{Earth}}$' % lvls[0]}\n",
    "fmt.update({lvls[i]: '%i' % lvls[i] for i in range(1, len(lvls))})\n",
    "CS = ax.contour(np.log10(Mcores), np.log10(fenvs), Mps, colors='b', linewidths=6, linestyles='dashed', levels=lvls)\n",
    "ax.clabel(CS, inline=1, fontsize=24, \n",
    "          fmt={3: '$%i\\ {\\\\rm M_{Earth}}$' % 3, 5:'%i' % 5, 10:'%i' % 10, 20:'%i' % 20}, manual=locations)\n",
    "\n",
    "ax.set_xlabel('$\\\\log_{10} \\\\left( M_{\\\\rm core}/{\\\\rm M_{Earth}}\\\\right)$', fontsize=36)\n",
    "ax.set_ylabel('$\\\\log_{10}\\ f_{\\\\rm env}$', fontsize=36)\n",
    "\n",
    "ax.set_xlim([0, 2])\n",
    "ax.set_ylim([-3.1, 0.1])\n",
    "\n",
    "#fig.savefig('LopezFortney2013_mass-radius_contours.eps', dpi=1000, bbox_inches='tight')"
   ]
  },
  {
   "cell_type": "code",
   "execution_count": 6,
   "metadata": {
    "collapsed": false
   },
   "outputs": [
    {
     "ename": "KeyboardInterrupt",
     "evalue": "",
     "output_type": "error",
     "traceback": [
      "\u001b[0;31m---------------------------------------------------------------------------\u001b[0m",
      "\u001b[0;31mKeyboardInterrupt\u001b[0m                         Traceback (most recent call last)",
      "\u001b[0;32m<ipython-input-6-1eb9ec405012>\u001b[0m in \u001b[0;36m<module>\u001b[0;34m()\u001b[0m\n\u001b[1;32m     13\u001b[0m     \u001b[0;32mfor\u001b[0m \u001b[0mj\u001b[0m \u001b[0;32min\u001b[0m \u001b[0mrange\u001b[0m\u001b[0;34m(\u001b[0m\u001b[0mlen\u001b[0m\u001b[0;34m(\u001b[0m\u001b[0mfenvs\u001b[0m\u001b[0;34m)\u001b[0m\u001b[0;34m)\u001b[0m\u001b[0;34m:\u001b[0m\u001b[0;34m\u001b[0m\u001b[0m\n\u001b[1;32m     14\u001b[0m \u001b[0;34m\u001b[0m\u001b[0m\n\u001b[0;32m---> 15\u001b[0;31m         \u001b[0mcur_Mp\u001b[0m \u001b[0;34m=\u001b[0m \u001b[0mMcores\u001b[0m\u001b[0;34m[\u001b[0m\u001b[0mi\u001b[0m\u001b[0;34m]\u001b[0m\u001b[0;34m/\u001b[0m\u001b[0;34m(\u001b[0m\u001b[0;36m1.\u001b[0m \u001b[0;34m-\u001b[0m \u001b[0mfenvs\u001b[0m\u001b[0;34m[\u001b[0m\u001b[0mj\u001b[0m\u001b[0;34m]\u001b[0m\u001b[0;34m)\u001b[0m\u001b[0;34m\u001b[0m\u001b[0m\n\u001b[0m\u001b[1;32m     16\u001b[0m         \u001b[0mMps\u001b[0m\u001b[0;34m[\u001b[0m\u001b[0mi\u001b[0m\u001b[0;34m,\u001b[0m\u001b[0mj\u001b[0m\u001b[0;34m]\u001b[0m \u001b[0;34m=\u001b[0m \u001b[0mcur_Mp\u001b[0m\u001b[0;34m.\u001b[0m\u001b[0mvalue\u001b[0m\u001b[0;34m\u001b[0m\u001b[0m\n\u001b[1;32m     17\u001b[0m         \u001b[0mcur_Rp\u001b[0m \u001b[0;34m=\u001b[0m \u001b[0mLopez_superearth_radius\u001b[0m\u001b[0;34m(\u001b[0m\u001b[0mcur_Mp\u001b[0m\u001b[0;34m,\u001b[0m \u001b[0mfenv\u001b[0m\u001b[0;34m=\u001b[0m\u001b[0mfenvs\u001b[0m\u001b[0;34m[\u001b[0m\u001b[0mj\u001b[0m\u001b[0;34m]\u001b[0m\u001b[0;34m)\u001b[0m\u001b[0;34m*\u001b[0m\u001b[0mcds\u001b[0m\u001b[0;34m.\u001b[0m\u001b[0mRgeo\u001b[0m\u001b[0;34m\u001b[0m\u001b[0m\n",
      "\u001b[0;32m//anaconda/lib/python2.7/site-packages/astropy/units/quantity.pyc\u001b[0m in \u001b[0;36m__div__\u001b[0;34m(self, other)\u001b[0m\n\u001b[1;32m    783\u001b[0m             \u001b[0;32mreturn\u001b[0m \u001b[0mself\u001b[0m\u001b[0;34m.\u001b[0m\u001b[0m_new_view\u001b[0m\u001b[0;34m(\u001b[0m\u001b[0mself\u001b[0m\u001b[0;34m.\u001b[0m\u001b[0mcopy\u001b[0m\u001b[0;34m(\u001b[0m\u001b[0;34m)\u001b[0m\u001b[0;34m,\u001b[0m \u001b[0mself\u001b[0m\u001b[0;34m.\u001b[0m\u001b[0munit\u001b[0m \u001b[0;34m/\u001b[0m \u001b[0mother\u001b[0m\u001b[0;34m)\u001b[0m\u001b[0;34m\u001b[0m\u001b[0m\n\u001b[1;32m    784\u001b[0m \u001b[0;34m\u001b[0m\u001b[0m\n\u001b[0;32m--> 785\u001b[0;31m         \u001b[0;32mreturn\u001b[0m \u001b[0mnp\u001b[0m\u001b[0;34m.\u001b[0m\u001b[0mtrue_divide\u001b[0m\u001b[0;34m(\u001b[0m\u001b[0mself\u001b[0m\u001b[0;34m,\u001b[0m \u001b[0mother\u001b[0m\u001b[0;34m)\u001b[0m\u001b[0;34m\u001b[0m\u001b[0m\n\u001b[0m\u001b[1;32m    786\u001b[0m \u001b[0;34m\u001b[0m\u001b[0m\n\u001b[1;32m    787\u001b[0m     \u001b[0;32mdef\u001b[0m \u001b[0m__idiv__\u001b[0m\u001b[0;34m(\u001b[0m\u001b[0mself\u001b[0m\u001b[0;34m,\u001b[0m \u001b[0mother\u001b[0m\u001b[0;34m)\u001b[0m\u001b[0;34m:\u001b[0m\u001b[0;34m\u001b[0m\u001b[0m\n",
      "\u001b[0;32m//anaconda/lib/python2.7/site-packages/astropy/units/quantity.pyc\u001b[0m in \u001b[0;36m__array_wrap__\u001b[0;34m(self, obj, context)\u001b[0m\n\u001b[1;32m    417\u001b[0m         \u001b[0;32mreturn\u001b[0m \u001b[0mresult\u001b[0m\u001b[0;34m\u001b[0m\u001b[0m\n\u001b[1;32m    418\u001b[0m \u001b[0;34m\u001b[0m\u001b[0m\n\u001b[0;32m--> 419\u001b[0;31m     \u001b[0;32mdef\u001b[0m \u001b[0m__array_wrap__\u001b[0m\u001b[0;34m(\u001b[0m\u001b[0mself\u001b[0m\u001b[0;34m,\u001b[0m \u001b[0mobj\u001b[0m\u001b[0;34m,\u001b[0m \u001b[0mcontext\u001b[0m\u001b[0;34m=\u001b[0m\u001b[0mNone\u001b[0m\u001b[0;34m)\u001b[0m\u001b[0;34m:\u001b[0m\u001b[0;34m\u001b[0m\u001b[0m\n\u001b[0m\u001b[1;32m    420\u001b[0m         \u001b[0;32mif\u001b[0m \u001b[0mcontext\u001b[0m \u001b[0;32mis\u001b[0m \u001b[0mNone\u001b[0m\u001b[0;34m:\u001b[0m\u001b[0;34m\u001b[0m\u001b[0m\n\u001b[1;32m    421\u001b[0m             \u001b[0;31m# Methods like .squeeze() created a new `ndarray` and then call\u001b[0m\u001b[0;34m\u001b[0m\u001b[0;34m\u001b[0m\u001b[0m\n",
      "\u001b[0;31mKeyboardInterrupt\u001b[0m: "
     ]
    }
   ],
   "source": [
    "num_samples = 100\n",
    "\n",
    "Mcores = 10**(np.linspace(0., 2., num_samples))*cds.Mgeo\n",
    "fenvs = 10**(np.linspace(-3., 0., num_samples + 1))\n",
    "#Drop the very last one so I don't get a divide-by-zero error\n",
    "fenvs = fenvs[:-1]\n",
    "\n",
    "density = np.empty((len(Mcores), len(fenvs)))\n",
    "Ps_Roche = np.empty((len(Mcores), len(fenvs)))\n",
    "Mps = np.empty((len(Mcores), len(fenvs)))\n",
    "Rps = np.empty((len(Mcores), len(fenvs)))\n",
    "for i in range(len(Mcores)):\n",
    "    for j in range(len(fenvs)):\n",
    "        \n",
    "        cur_Mp = Mcores[i]/(1. - fenvs[j])\n",
    "        Mps[i,j] = cur_Mp.value\n",
    "        cur_Rp = Lopez_superearth_radius(cur_Mp, fenv=fenvs[j])*cds.Rgeo\n",
    "        Rps[i,j] = cur_Rp.value\n",
    "        density[i,j] = (cur_Mp/(4.*np.pi/3.*(cur_Rp)**3)).to('g/cm^3').value\n",
    "        Ps_Roche[i,j] = Rappaport_Roche_limit(rhop=density[i,j]*u.g/u.cm**3, incompressible=True).to('hour').value\n",
    "\n",
    "fenvs = np.outer(np.ones_like(fenvs), fenvs)\n",
    "Mcores = np.outer(Mcores, np.ones_like(Mcores))\n",
    "\n",
    "fig = plt.figure(figsize=(9*aspect_ratio, 9))\n",
    "ax = fig.add_subplot(111)\n",
    "\n",
    "lvls = [0.5, 1., 3., 5.]\n",
    "density_lvls = Rappaport_Roche_limit(rhop=lvls*u.g/u.cm**3).to('hour').value\n",
    "locs = [(0.5, -1.25), (0.5, -1.5), (0.5, -2.25), (1.25, -2)]\n",
    "fmt = {lvls[0]: '$%.1f\\ {\\\\rm g/cm^3}/\\ %i\\ {\\\\rm hrs}$' % (lvls[0], density_lvls[0])}\n",
    "fmt.update({lvls[i]: '%i / %i' % (lvls[i], density_lvls[i]) for i in range(1, len(lvls))})\n",
    "CS = ax.contour(np.log10(Mcores), np.log10(fenvs), density, levels=lvls, cmap='copper', linewidths=6)\n",
    "ax.clabel(CS, inline=1, fontsize=24, fmt=fmt, manual=locs)\n",
    "\n",
    "#GJ 1214 b -- https://en.wikipedia.org/wiki/Gliese_1214_b\n",
    "# Mp_lvls = [6.55]\n",
    "# Rp_lvls = [2.678]\n",
    "P_lvls = [1.58040456*24.]\n",
    "#\n",
    "#From Lopez & Fortney\n",
    "Mcore = 6.46*(1. - 0.0383)\n",
    "fenv = 0.0383\n",
    "ax.axvline(np.log10(Mcore), zorder=-1, color='blue', lw=6, ls='--')\n",
    "ax.text(np.log10(Mcore)*0.88, -2.25, 'GJ 1214 b', rotation='vertical', color='blue', fontsize=24)\n",
    "CS = ax.contour(np.log10(Mcores), np.log10(fenvs), Ps_Roche, colors='blue', levels=P_lvls, linestyles='--', linewidths=6)\n",
    "ax.text(0.25, -0.55, '%i hours' % P_lvls[0], rotation=40, fontsize=24, color='b')\n",
    "\n",
    "#CoRoT-7 b -- Lopez & Fortney (2013)\n",
    "Mcore = 7.42\n",
    "P_lvls = [0.853585*24.]\n",
    "ax.axvline(np.log10(Mcore), color='red', zorder=-1, linestyle='-.', linewidth=6)\n",
    "ax.text(np.log10(Mcore)*1.02, -2.25, 'CoRoT-7 b', rotation='vertical', color='red', fontsize=24)\n",
    "CS = ax.contour(np.log10(Mcores), np.log10(fenvs), Ps_Roche, colors='red', levels=P_lvls, linestyles='-.', linewidths=6)\n",
    "ax.text(0.25, -0.9, '%i hours' % P_lvls[0], rotation=30, fontsize=24, color='r')\n",
    "\n",
    "#Kepler-446 b -- http://exoplanets.org/detail/Kepler-446_b\n",
    "# Mcore = 3.657\n",
    "# ax.axvline(np.log10(Mcore), color='red')\n",
    "# CS = ax.contour(np.log10(Mcores), np.log10(fenvs), Ps_Roche, colors='blue', linewidths=8, levels=P_lvls)\n",
    "# Rp_lvls = [2.678]\n",
    "\n",
    "#GJ 436 b -- https://en.wikipedia.org/wiki/Gliese_436_b\n",
    "# Mcore = 23.0*(1. - 0.12)\n",
    "# # Rp_lvls = [4.327]\n",
    "# P_lvls = [2.643904*24.]\n",
    "# ax.axvline(np.log10(Mcore), color='green', zorder=-1, linestyle=':', linewidth=6)\n",
    "# ax.text(np.log10(Mcore)*0.93, -2, 'GJ 436 b', rotation='vertical', color='green', fontsize=24)\n",
    "# CS = ax.contour(np.log10(Mcores), np.log10(fenvs), Ps_Roche, colors='green', levels=P_lvls, linestyles=':', linewidths=6)\n",
    "# ax.text(0., -0.4, '%i hours' % P_lvls[0], rotation=45, fontsize=24, color='g')\n",
    "\n",
    "#Kepler-78 b -- https://en.wikipedia.org/wiki/Kepler-78b\n",
    "Mcore = 1.77\n",
    "P_lvls = [0.355007*24.]\n",
    "ax.axvline(np.log10(Mcore), color='green', zorder=-1, linestyle=':', linewidth=6)\n",
    "ax.text(np.log10(Mcore)*1.1, -2.25, 'Kepler-78 b', rotation='vertical', color='green', fontsize=24)\n",
    "CS = ax.contour(np.log10(Mcores), np.log10(fenvs), Ps_Roche, colors='green', levels=P_lvls, linestyles=':', linewidths=6)\n",
    "ax.text(0.3, -1.85, '%i hours' % P_lvls[0], rotation=30, fontsize=24, color='g')\n",
    "\n",
    "ax.set_xlabel('$\\\\log_{10} \\\\left( M_{\\\\rm core}/{\\\\rm M_{Earth}}\\\\right)$', fontsize=36)\n",
    "ax.set_ylabel('$\\\\log_{10}\\ f_{\\\\rm env}$', fontsize=36)\n",
    "\n",
    "ax.set_xlim([0, 2])\n",
    "ax.set_ylim([-3.1, 0.1])\n",
    "\n",
    "#fig.savefig('LopezFortney2013_density-PRoche_contours.eps', dpi=1000, bbox_inches='tight')"
   ]
  },
  {
   "cell_type": "markdown",
   "metadata": {},
   "source": [
    "Now to convert these masses and radii to Roche limit periods."
   ]
  },
  {
   "cell_type": "code",
   "execution_count": null,
   "metadata": {
    "collapsed": false
   },
   "outputs": [],
   "source": [
    "#Same PRoche vs. Mcore plot but without specific examples\n",
    "Ps_Roche = Rappaport_Roche_limit(Mps*cds.Mgeo, Rps*cds.Rgeo).to('hour')\n",
    "fig = plt.figure(figsize=(8*4./3,8))\n",
    "ax = fig.add_subplot(111)\n",
    "\n",
    "#ax.plot(Mps, Ps_Roche);\n",
    "\n",
    "locations = [(0.2, -2.75), (0.2, -1.75), (0.2, -1.5), (0.2, -1.), (0.2, -0.75), (0.3, -0.3)]\n",
    "lvls = [12, 24, 36, 48, 72, 86]\n",
    "fmt = {lvls[0]: '$%i\\ {\\\\rm hours}$' % lvls[0]}\n",
    "fmt.update({lvls[i]: '%i' % lvls[i] for i in range(1, len(lvls))})\n",
    "CS = ax.contour(np.log10(Mcores), np.log10(fenvs), Ps_Roche, cmap='copper', linewidths=6, levels=lvls, zorder=3)\n",
    "ax.clabel(CS, inline=1, fontsize=24, fmt=fmt, manual=locations)\n",
    "\n",
    "ax.set_xlabel('$\\\\log_{10} \\\\left( M_{\\\\rm core}/{\\\\rm M_{Earth}}\\\\right)$', fontsize=36)\n",
    "ax.set_ylabel('$\\\\log_{10}\\ f_{\\\\rm env}$', fontsize=36)\n",
    "\n",
    "ax.set_xlim([0, 2])\n",
    "ax.set_ylim([-3.1, 0.1])\n",
    "\n",
    "#fig.savefig('Pturnover_without_examples.png', dpi=500, bbox_inches='tight')"
   ]
  },
  {
   "cell_type": "code",
   "execution_count": null,
   "metadata": {
    "collapsed": false
   },
   "outputs": [],
   "source": [
    "#And a version with only GJ 1214 b\n",
    "Ps_Roche = Rappaport_Roche_limit(Mps*cds.Mgeo, Rps*cds.Rgeo).to('hour')\n",
    "fig = plt.figure(figsize=(8*4/3,8))\n",
    "ax = fig.add_subplot(111)\n",
    "\n",
    "#ax.plot(Mps, Ps_Roche);\n",
    "\n",
    "locations = [(0.2, -2.75), (0.2, -1.75), (0.2, -1.5), (0.2, -1.), (0.2, -0.75), (0.3, -0.3)]\n",
    "lvls = [12, 24, 36, 48, 72, 86]\n",
    "fmt = {lvls[0]: '$%i\\ {\\\\rm hours}$' % lvls[0]}\n",
    "fmt.update({lvls[i]: '%i' % lvls[i] for i in range(1, len(lvls))})\n",
    "CS = ax.contour(np.log10(Mcores), np.log10(fenvs), Ps_Roche, cmap='copper', linewidths=6, levels=lvls, zorder=3)\n",
    "ax.clabel(CS, inline=1, fontsize=24, fmt=fmt, manual=locations)\n",
    "\n",
    "# c = cntr.Cntr(Mcores, fenvs, Mps)\n",
    "# level = 20.\n",
    "# Mcores_Mp, fenvs_Mp = (c.trace(level))[0].T\n",
    "# ax.fill_between(np.log10(Mcores_Mp), np.log10(fenvs_Mp), 1, facecolor='lightgrey', edgecolor='lightgrey', zorder=-1)\n",
    "\n",
    "#GJ 1214 b -- https://en.wikipedia.org/wiki/Gliese_1214_b\n",
    "# Mp_lvls = [6.55]\n",
    "# Rp_lvls = [2.678]\n",
    "P_lvls = [1.58040456*24.]\n",
    "#\n",
    "#From Lopez & Fortney\n",
    "Mcore = 6.46*(1. - 0.0383)\n",
    "fenv = 0.0383\n",
    "ax.axvline(np.log10(Mcore), zorder=-1, color='blue', lw=6, ls='--')\n",
    "ax.text(np.log10(Mcore)*0.88, -2.25, 'GJ 1214 b', rotation='vertical', color='blue', fontsize=24)\n",
    "CS = ax.contour(np.log10(Mcores), np.log10(fenvs), Ps_Roche, colors='blue', levels=P_lvls, linestyles='--', linewidths=6)\n",
    "\n",
    "ax.set_xlabel('$\\\\log_{10} \\\\left( M_{\\\\rm core}/{\\\\rm M_{Earth}}\\\\right)$', fontsize=36)\n",
    "ax.set_ylabel('$\\\\log_{10}\\ f_{\\\\rm env}$', fontsize=36)\n",
    "\n",
    "ax.set_xlim([0, 2])\n",
    "ax.set_ylim([-3.1, 0.1])\n",
    "#fig.savefig('Pturnover_with_just_GJ1214b.png', dpi=500, bbox_inches='tight')"
   ]
  },
  {
   "cell_type": "code",
   "execution_count": null,
   "metadata": {
    "collapsed": false
   },
   "outputs": [],
   "source": [
    "Ps_Roche = Rappaport_Roche_limit(Mps*cds.Mgeo, Rps*cds.Rgeo).to('hour')\n",
    "fig = plt.figure(figsize=(default_fig_width,default_fig_height))\n",
    "ax = fig.add_subplot(111)\n",
    "\n",
    "#ax.plot(Mps, Ps_Roche);\n",
    "\n",
    "locations = [(0.2, -2.75), (0.2, -1.75), (0.2, -1.5), (0.2, -1.), (0.2, -0.75), (0.3, -0.3)]\n",
    "lvls = [12, 24, 36, 48, 72, 86]\n",
    "fmt = {lvls[0]: '$%i\\ {\\\\rm hours}$' % lvls[0]}\n",
    "fmt.update({lvls[i]: '%i' % lvls[i] for i in range(1, len(lvls))})\n",
    "CS = ax.contour(np.log10(Mcores), np.log10(fenvs), Ps_Roche, cmap='copper', linewidths=6, levels=lvls, zorder=3)\n",
    "ax.clabel(CS, inline=1, fontsize=24, fmt=fmt, manual=locations)\n",
    "\n",
    "# c = cntr.Cntr(Mcores, fenvs, Mps)\n",
    "# level = 20.\n",
    "# Mcores_Mp, fenvs_Mp = (c.trace(level))[0].T\n",
    "# ax.fill_between(np.log10(Mcores_Mp), np.log10(fenvs_Mp), 1, facecolor='lightgrey', edgecolor='lightgrey', zorder=-1)\n",
    "\n",
    "#GJ 1214 b -- https://en.wikipedia.org/wiki/Gliese_1214_b\n",
    "# Mp_lvls = [6.55]\n",
    "# Rp_lvls = [2.678]\n",
    "P_lvls = [1.58040456*24.]\n",
    "#\n",
    "#From Lopez & Fortney\n",
    "Mcore = 6.46*(1. - 0.0383)\n",
    "fenv = 0.0383\n",
    "ax.axvline(np.log10(Mcore), zorder=-1, color='blue', lw=6, ls='--')\n",
    "ax.text(np.log10(Mcore)*0.88, -2., 'GJ 1214 b', rotation='vertical', color='blue', fontsize=24)\n",
    "CS = ax.contour(np.log10(Mcores), np.log10(fenvs), Ps_Roche, colors='blue', levels=P_lvls, linestyles='--', linewidths=6)\n",
    "\n",
    "#CoRoT-7 b -- Lopez & Fortney (2013)\n",
    "Mcore = 7.42\n",
    "P_lvls = [0.853585*24.]\n",
    "ax.axvline(np.log10(Mcore), color='red', zorder=-1, linestyle='-.', linewidth=6)\n",
    "ax.text(np.log10(Mcore)*1.02, -2, 'CoRoT-7 b', rotation='vertical', color='red', fontsize=24)\n",
    "CS = ax.contour(np.log10(Mcores), np.log10(fenvs), Ps_Roche, colors='red', levels=P_lvls, linestyles='-.', linewidths=6)\n",
    "\n",
    "#Kepler-446 b -- http://exoplanets.org/detail/Kepler-446_b\n",
    "# Mcore = 3.657\n",
    "# ax.axvline(np.log10(Mcore), color='red')\n",
    "# CS = ax.contour(np.log10(Mcores), np.log10(fenvs), Ps_Roche, colors='blue', linewidths=8, levels=P_lvls)\n",
    "# Rp_lvls = [2.678]\n",
    "\n",
    "#GJ 436 b -- https://en.wikipedia.org/wiki/Gliese_436_b\n",
    "Mcore = 23.0*(1. - 0.12)\n",
    "# Rp_lvls = [4.327]\n",
    "P_lvls = [2.643904*24.]\n",
    "ax.axvline(np.log10(Mcore), color='green', zorder=-1, linestyle=':', linewidth=6)\n",
    "ax.text(np.log10(Mcore)*0.93, -2, 'GJ 436 b', rotation='vertical', color='green', fontsize=24)\n",
    "CS = ax.contour(np.log10(Mcores), np.log10(fenvs), Ps_Roche, colors='green', levels=P_lvls, linestyles=':', linewidths=6)\n",
    "\n",
    "# # CS = ax.contour(np.log10(Mcores), np.log10(fenvs), Mps, colors='blue', linewidths=8, levels=Mp_lvls, linestyles='--')\n",
    "# # CS = ax.contour(np.log10(Mcores), np.log10(fenvs), Rps, colors='red', linewidths=8, levels=Rp_lvls, linestyles='--')\n",
    "\n",
    "# #55 Cnc e -- L & F\n",
    "# Mcore = 8.32\n",
    "# P_lvls = [0.7365449*24.]\n",
    "# ax.axvline(np.log10(Mcore), color='cornflowerblue')\n",
    "# CS = ax.contour(np.log10(Mcores), np.log10(fenvs), Ps_Roche, colors='cornflowerblue', levels=P_lvls)\n",
    "\n",
    "# #K-10 b -- L & F\n",
    "# Mcore = 4.51\n",
    "# P_lvls = [0.837495*24.]\n",
    "# ax.axvline(np.log10(Mcore), color='gold')\n",
    "# CS = ax.contour(np.log10(Mcores), np.log10(fenvs), Ps_Roche, colors='gold', levels=P_lvls)\n",
    "\n",
    "# lvls = [20]\n",
    "# CS = ax.contour(np.log10(Mcores), np.log10(fenvs), Mps, colors='grey', linewidths=6, levels=lvls, zorder=-1)\n",
    "\n",
    "#ax.plot(np.log10(Mcores_Mp), np.log10(f(Mcores_Mp)), color='k')\n",
    "#ax.plot(np.log10(Mcores_Mp), np.log10(fenvs_Mp), color='grey')\n",
    "\n",
    "ax.set_xlabel('$\\\\log_{10} \\\\left( M_{\\\\rm core}/{\\\\rm M_{Earth}}\\\\right)$', fontsize=36)\n",
    "ax.set_ylabel('$\\\\log_{10}\\ f_{\\\\rm env}$', fontsize=36)\n",
    "\n",
    "ax.set_xlim([0, 2])\n",
    "ax.set_ylim([-3.1, 0.1])\n",
    "\n",
    "#fig.savefig('Pturnover_with_examples.eps', dpi=1000, bbox_inches='tight')"
   ]
  },
  {
   "cell_type": "code",
   "execution_count": null,
   "metadata": {
    "collapsed": false
   },
   "outputs": [],
   "source": [
    "LF_Table7 = Table.read('combined_LopezFortney2014_Table7_exoplanets-org.csv', format='ascii.csv')\n",
    "#print(LF_Table7['H/He Envelope Fraction'])\n",
    "\n",
    "#Add in the calculated core mass\n",
    "LF_Table7['Mcore'] = LF_Table7['Mass (M_oplus)']*(1. - LF_Table7['H/He Envelope Fraction'])"
   ]
  },
  {
   "cell_type": "code",
   "execution_count": null,
   "metadata": {
    "collapsed": false
   },
   "outputs": [],
   "source": [
    "c = cntr.Cntr(Mcores, fenvs, Ps_Roche)\n",
    "level = 0.35500744*24.\n",
    "Mcores_P, fenvs_P = (c.trace(level))[0].T\n",
    "mx_ind = np.argmax(Mcores_P)\n",
    "print(Mcores_P[mx_ind])"
   ]
  },
  {
   "cell_type": "code",
   "execution_count": null,
   "metadata": {
    "collapsed": false
   },
   "outputs": [],
   "source": [
    "def find_turnover_Mcore(period):\n",
    "    c = cntr.Cntr(Mcores, fenvs, Ps_Roche)\n",
    "    \n",
    "    if(len(c.trace(period)) == 0.):\n",
    "        return 0.\n",
    "    \n",
    "    Mcores_P, fenvs_P = (c.trace(period))[0].T\n",
    "    return Mcores_P.max()"
   ]
  },
  {
   "cell_type": "code",
   "execution_count": null,
   "metadata": {
    "collapsed": false
   },
   "outputs": [],
   "source": [
    "def calc_fenv(Mp, Rp, Fp=1., age=5e9):\n",
    "    Renv0 = 2.06\n",
    "    age0 = 5e9 #years\n",
    "    fenv0 = 0.05\n",
    "    \n",
    "    #Assumes Earth mass\n",
    "    Rcore = Mp**0.25\n",
    "\n",
    "    #Assumes Earth radius\n",
    "    Renv = Rp - Rcore\n",
    "    \n",
    "    return ((Renv/Renv0)*(Mp**(0.21))/(Fp**0.044)*(age/age0)**(0.18))**(1./0.59)*fenv0\n",
    "    \n",
    "exoplanets_table = Table.read('exoplanets-org_2015Nov19.csv', format='ascii.csv')\n",
    "exoplanets_table['fenv'] = calc_fenv(exoplanets_table['MASS (Mearth)'], exoplanets_table['R (Rearth)'])\n",
    "exoplanets_table['Mcore'] = exoplanets_table['MASS (Mearth)']*(1. - exoplanets_table['fenv'])\n",
    "\n",
    "possible_fenv_ind = (exoplanets_table['R (Rearth)'] - Lopez_superearth_radius(exoplanets_table['MASS (Mearth)'], fenv=0.) > 0)\n",
    "plt.scatter(exoplanets_table['MASS (Mearth)'][possible_fenv_ind], exoplanets_table['fenv'][possible_fenv_ind])\n",
    "print(exoplanets_table['fenv'][possible_fenv_ind].min())"
   ]
  },
  {
   "cell_type": "code",
   "execution_count": null,
   "metadata": {
    "collapsed": false
   },
   "outputs": [],
   "source": [
    "#Version for my NMSU talk\n",
    "fig = plt.figure(figsize=(8*4./3,8))\n",
    "ax = fig.add_subplot(111)\n",
    "\n",
    "ind = np.where(LF_Table7['PER'] < 3.)\n",
    "#ax.scatter(LF_Table7['PER'], LF_Table7['Mcore'])\n",
    "\n",
    "turnover_Mcore = []\n",
    "for cur_per in LF_Table7['PER'][ind]:\n",
    "    turnover_Mcore = np.append(turnover_Mcore, find_turnover_Mcore(cur_per*24.))\n",
    "ax.scatter(np.log10(LF_Table7['Mcore'][ind]), np.log10(turnover_Mcore), s=200)\n",
    "\n",
    "xyrange = [-0.5, 2.]\n",
    "ax.plot(xyrange, xyrange, lw=6, zorder=-1, color='k')\n",
    "\n",
    "#and then add the ones I calculated\n",
    "ind = np.where(exoplanets_table['PER (day)'] < 3.)\n",
    "turnover_Mcore = []\n",
    "for cur_per in exoplanets_table['PER (day)'][ind]:\n",
    "    turnover_Mcore = np.append(turnover_Mcore, find_turnover_Mcore(cur_per*24.))\n",
    "ax.scatter(np.log10(exoplanets_table['Mcore'][ind]), np.log10(turnover_Mcore), s=200)\n",
    "ax.set_xlim(xyrange)\n",
    "ax.set_ylim(xyrange)\n",
    "\n",
    "ax.text(-0.45, 1.75, '$P < P_{\\\\rm turnover}$', fontsize=48)\n",
    "ax.text(0.9, -0.35, '$P > P_{\\\\rm turnover}$', fontsize=48)\n",
    "\n",
    "ax.set_xlabel('$\\\\log_{10}\\\\left( M_{\\\\rm core,\\ obs}/{\\\\rm M_{Earth}} \\\\right)$', fontsize=36)\n",
    "ax.set_ylabel('$\\\\log_{10}\\\\left( M_{\\\\rm core,\\ exp}/{\\\\rm M_{Earth}} \\\\right)$', fontsize=36)\n",
    "\n",
    "# #fig.savefig('Mcore-exp_vs_Mcore-obs.png', dpi=500, bbox_inches='tight')"
   ]
  },
  {
   "cell_type": "code",
   "execution_count": null,
   "metadata": {
    "collapsed": false
   },
   "outputs": [],
   "source": [
    "#fig = plt.figure(figsize=(8,8))\n",
    "fig = plt.figure(figsize=(default_fig_width,default_fig_height))\n",
    "ax = fig.add_subplot(111)\n",
    "\n",
    "ind = np.where(LF_Table7['PER'] < 3.)\n",
    "#ax.scatter(LF_Table7['PER'], LF_Table7['Mcore'])\n",
    "\n",
    "turnover_Mcore = []\n",
    "for cur_per in LF_Table7['PER'][ind]:\n",
    "    turnover_Mcore = np.append(turnover_Mcore, find_turnover_Mcore(cur_per*24.))\n",
    "ax.scatter(np.log10(LF_Table7['Mcore'][ind]), np.log10(turnover_Mcore), s=200, facecolor='red', edgecolor='black', \n",
    "           label='L&F (2013)')\n",
    "\n",
    "xyrange = [-0.5, 2.]\n",
    "ax.plot(xyrange, xyrange, lw=6, zorder=-1, color='k')\n",
    "\n",
    "#and then add the ones I calculated\n",
    "ind = np.where(exoplanets_table['PER (day)'] < 3.)\n",
    "turnover_Mcore = []\n",
    "for cur_per in exoplanets_table['PER (day)'][ind]:\n",
    "    turnover_Mcore = np.append(turnover_Mcore, find_turnover_Mcore(cur_per*24.))\n",
    "ax.scatter(np.log10(exoplanets_table['Mcore'][ind]), np.log10(turnover_Mcore), s=200, marker='.', \n",
    "           facecolor='blue', edgecolor='black', zorder=0, label='This work')\n",
    "\n",
    "ax.set_xlim(xyrange)\n",
    "ax.set_ylim(xyrange)\n",
    "\n",
    "ax.text(-0.5, 1.75, '$P < P_{\\\\rm turnover}$', fontsize=36)\n",
    "ax.text(1, -0.35, '$P > P_{\\\\rm turnover}$', fontsize=36)\n",
    "\n",
    "ax.set_xlabel('$\\\\log_{10}\\\\left( M_{\\\\rm core,\\ obs}/{\\\\rm M_{Earth}} \\\\right)$', fontsize=36)\n",
    "ax.set_ylabel('$\\\\log_{10}\\\\left( M_{\\\\rm core,\\ exp}/{\\\\rm M_{Earth}} \\\\right)$', fontsize=36)\n",
    "\n",
    "ax.legend(loc='upper right', fontsize=20, scatterpoints=1)\n",
    "#fig.savefig('P-vs-Pturnover.eps', dpi=1000, bbox_inches='tight')"
   ]
  },
  {
   "cell_type": "markdown",
   "metadata": {
    "collapsed": true
   },
   "source": [
    "Make Roche period plot"
   ]
  },
  {
   "cell_type": "code",
   "execution_count": null,
   "metadata": {
    "collapsed": false
   },
   "outputs": [],
   "source": [
    "fig = plt.figure(figsize=(default_fig_width, default_fig_height))\n",
    "ax = fig.add_subplot(111)\n",
    "\n",
    "exoplanets_table = Table.read('exoplanets-org_2015Dec7.csv', format='ascii.csv')\n",
    "\n",
    "ind = np.where(exoplanets_table['PER (day)'] < 3.)\n",
    "exoplanets_table['PRoche (days)'] = \\\n",
    "    Rappaport_Roche_limit(exoplanets_table['MASS (Mearth)']*cds.Mgeo, exoplanets_table['R (Rearth)']*cds.Rgeo)\n",
    "\n",
    "x = exoplanets_table['PER (day)'][ind]/exoplanets_table['PRoche (days)'][ind]\n",
    "y = exoplanets_table['R (Rearth)'][ind]\n",
    "ax.scatter(np.log10(x), np.log10(y), s=200)\n",
    "\n",
    "#    period0 = 12.6/24.*u.day #days\n",
    "#For a planet comprised of a highly compressible fluid\n",
    "#ax.axvline(0., lw=6, ls='--', color='k', zorder=-1)\n",
    "\n",
    "#Add in 12.6-hour Roche limit\n",
    "#  A body comprised of an incompressible fluid with negligible bulk tensile strength\n",
    "ax.axvline(np.log10(12.6/9.6), lw=6, ls='--', color='k', zorder=-1)\n",
    "ax.text(-0.01, 1.1, '$P_{\\\\rm Roche, 0} = {\\\\rm 12.6\\ hours}$', rotation=90, fontsize=30)\n",
    "\n",
    "ax.set_xlim([-0.05, 1.4])\n",
    "ax.set_ylim([-0.4, 1.5])\n",
    "\n",
    "#ax.fill_between([-0.3, 0.], -0.4, 1.4, color='lightgrey', zorder=-1)\n",
    "\n",
    "ax.set_xlabel('$\\\\log_{\\\\rm 10} \\\\left( P/P_{\\\\rm Roche} \\\\right)$', fontsize=36)\n",
    "ax.set_ylabel('$\\\\log_{\\\\rm 10} \\\\left( R_{\\\\rm p}/{\\\\rm R_{Earth}} \\\\right)$', fontsize=36)\n",
    "\n",
    "ax.text(0.8, 1.3, '$P \\\\leq\\ {\\\\rm 3\\ days}$', fontsize=36)\n",
    "#fig.savefig('P-PRoche.eps', dpi=1000, bbox_inches='tight')"
   ]
  },
  {
   "cell_type": "code",
   "execution_count": null,
   "metadata": {
    "collapsed": true
   },
   "outputs": [],
   "source": [
    "#Reproducing one of the curves from Valsecchi+ (2015) Fig. 7\n",
    "Mps = "
   ]
  }
 ],
 "metadata": {
  "kernelspec": {
   "display_name": "Python 2",
   "language": "python",
   "name": "python2"
  },
  "language_info": {
   "codemirror_mode": {
    "name": "ipython",
    "version": 2
   },
   "file_extension": ".py",
   "mimetype": "text/x-python",
   "name": "python",
   "nbconvert_exporter": "python",
   "pygments_lexer": "ipython2",
   "version": "2.7.10"
  }
 },
 "nbformat": 4,
 "nbformat_minor": 0
}
