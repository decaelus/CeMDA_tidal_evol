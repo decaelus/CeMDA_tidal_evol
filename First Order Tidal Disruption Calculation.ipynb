{
 "cells": [
  {
   "cell_type": "markdown",
   "metadata": {},
   "source": [
    "Valsecchi et al. (2014) show that, in the limit of large $M_{\\rm p}/M_\\star$ and conservative mass transfer, $a/a_0 = \\left(M_{\\rm p}/M_{\\rm p,\\ 0} \\right)^{-1/3}$ (Eqn 14), where $a/a_0$ is the final/initial semi-major axis and $M_{\\rm p}/M_{\\rm p,\\ 0}$ the final/initial planetary mass. Based on this equation, where would we expect the remnants of hot Jupiters that have lost their atmospheres to end up?"
   ]
  },
  {
   "cell_type": "code",
   "execution_count": 2,
   "metadata": {
    "collapsed": false
   },
   "outputs": [],
   "source": [
    "%matplotlib inline\n",
    "import numpy as np\n",
    "import matplotlib.pyplot as plt\n",
    "\n",
    "from astropy.units import cds"
   ]
  },
  {
   "cell_type": "code",
   "execution_count": 27,
   "metadata": {
    "collapsed": false
   },
   "outputs": [],
   "source": [
    "def calc_smallq_roche_limit(q, Rp=0.1):\n",
    "    return (q/3.)**(-1./3)*Rp\n",
    "\n",
    "#Returns period or semi-major axis, given the other\n",
    "#  P in days, a in AU, and Mstar in solar masses\n",
    "def Keplers_Third_Law(P=None, a=None, Mstar=1.*cds.Msun):\n",
    "\n",
    "    bigG = 4.*np.pi*np.pi/cds.Msun*(cds.au*cds.au*cds.au)/(cds.yr*cds.yr)\n",
    "\n",
    "    if((P is None) and (a is None)):\n",
    "        raise ValueError(\"P or a must be given!\")\n",
    "    elif(a is not None):\n",
    "        return (a*a*a/(bigG*Mstar/(4.*np.pi*np.pi)))**(1./2)\n",
    "    elif(P is not None):\n",
    "        return (P*P*(bigG*Mstar/(4.*np.pi*np.pi)))**(1./3)"
   ]
  },
  {
   "cell_type": "code",
   "execution_count": 42,
   "metadata": {
    "collapsed": false
   },
   "outputs": [
    {
     "name": "stdout",
     "output_type": "stream",
     "text": [
      "(0.02217335479484554, 1.2059723035426975)\n"
     ]
    }
   ],
   "source": [
    "#typical hot Jupiter\n",
    "Mp = 1.*cds.Mjup\n",
    "Rp = 1.*cds.Rjup\n",
    "Mcore = 10.*cds.Mgeo\n",
    "\n",
    "#the Sun\n",
    "Ms = 1.*cds.Msun\n",
    "Rs = 1.*cds.Rsun\n",
    "\n",
    "q = (Mp.to('kg')/Ms.to('kg')).value\n",
    "\n",
    "a_Roche = calc_smallq_roche_limit(q, Rp=Rp)\n",
    "\n",
    "#So where would the planet end up?\n",
    "a = a_Roche*(Mcore/Mp)**(-1./3)\n",
    "P = Keplers_Third_Law(a=a, Mstar=Ms)\n",
    "print(a.to('au').value, P.to('day').value)"
   ]
  },
  {
   "cell_type": "code",
   "execution_count": null,
   "metadata": {
    "collapsed": true
   },
   "outputs": [],
   "source": [
    "Mps = 10**(np.linspace(-1., 1., 100))*cds.Mjup"
   ]
  }
 ],
 "metadata": {
  "kernelspec": {
   "display_name": "Python 2",
   "language": "python",
   "name": "python2"
  },
  "language_info": {
   "codemirror_mode": {
    "name": "ipython",
    "version": 2
   },
   "file_extension": ".py",
   "mimetype": "text/x-python",
   "name": "python",
   "nbconvert_exporter": "python",
   "pygments_lexer": "ipython2",
   "version": "2.7.10"
  }
 },
 "nbformat": 4,
 "nbformat_minor": 0
}
