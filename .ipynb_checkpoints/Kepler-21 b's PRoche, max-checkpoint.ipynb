{
 "cells": [
  {
   "cell_type": "code",
   "execution_count": 2,
   "metadata": {
    "collapsed": false
   },
   "outputs": [],
   "source": [
    "%matplotlib inline\n",
    "import numpy as np\n",
    "import matplotlib.pyplot as plt\n",
    "from scipy import interpolate\n",
    "from scipy.optimize import brentq\n",
    "import matplotlib._cntr as cntr\n",
    "\n",
    "import astropy.units as u\n",
    "from astropy.units import cds\n",
    "from astropy.table import Table\n",
    "\n",
    "import plotly.plotly as py\n",
    "import plotly.graph_objs as go"
   ]
  },
  {
   "cell_type": "code",
   "execution_count": 4,
   "metadata": {
    "collapsed": false
   },
   "outputs": [],
   "source": [
    "def calc_smallq_roche_limit(q, Rp=0.1):\n",
    "    return (q/3.)**(-1./3)*Rp\n",
    "\n",
    "def Rappaport_Roche_limit(Mp=None, Rp=None, rhop=None, incompressible=False):\n",
    "    #Returns Roche limit period for given density\n",
    "    #  based on Rappaport+ (2013) ApJL 773, L15 -- \n",
    "    #  http://iopscience.iop.org/article/10.1088/2041-8205/773/1/L15/meta\n",
    "\n",
    "    if(rhop is None):\n",
    "        rhop = Mp/(4.*np.pi/3.*Rp**3.)\n",
    "\n",
    "    #For a planet comprised of a highly compressible fluid\n",
    "    period0 = 9.6/24.*u.day #days\n",
    "\n",
    "    #A body comprised of an incompressible fluid with negligible bulk tensile strength\n",
    "    if(incompressible):\n",
    "        period0 = 12.6/24.*u.day #days\n",
    "          \n",
    "    return period0*np.sqrt(1.*u.g/u.cm**3/(rhop.to('g/cm^3')))\n",
    "\n",
    "#Returns period or semi-major axis, given the other\n",
    "#  P in days, a in AU, and Mstar in solar masses\n",
    "def Keplers_Third_Law(P=None, a=None, Mstar=1.*cds.Msun):\n",
    "\n",
    "    bigG = 4.*np.pi*np.pi/cds.Msun*(cds.au*cds.au*cds.au)/(cds.yr*cds.yr)\n",
    "\n",
    "    if((P is None) and (a is None)):\n",
    "        raise ValueError(\"P or a must be given!\")\n",
    "    elif(a is not None):\n",
    "        return (a*a*a/(bigG*Mstar/(4.*np.pi*np.pi)))**(1./2)\n",
    "    elif(P is not None):\n",
    "        return (P*P*(bigG*Mstar/(4.*np.pi*np.pi)))**(1./3)\n",
    "\n",
    "def tidal_decay_time(a0=0.05*cds.AU, a=0.01*cds.AU, Mstar=1.*cds.Msun, \n",
    "                     Rstar=1.*cds.Rsun, Mp=1.*cds.Mjup, Qstar=1e6):\n",
    "    return 4./117*(a0**(13/2.) - a**(13./2))/(np.sqrt(cds.G/Mstar)*(Mp*Rstar**5)/Qstar)\n",
    "\n",
    "def tidal_decay(a0=0.05*cds.AU, t=1e9*u.year, Mstar=1.*cds.Msun, \n",
    "                Rstar=1.*cds.Rsun, Mp=1.*cds.Mjup, Qstar=1e6):\n",
    "    return (a0**(13./2) - 117./4*(np.sqrt(cds.G/Mstar)*(Mp*Rstar**5)/Qstar)*t)**(2./13)"
   ]
  },
  {
   "cell_type": "code",
   "execution_count": 6,
   "metadata": {
    "collapsed": false
   },
   "outputs": [],
   "source": [
    "#These models come from Lopez & Fortney (2013 -- http://iopscience.iop.org/article/10.1088/0004-637X/792/1/1/meta)\n",
    "\n",
    "def Lopez_core_radius(Mcore):\n",
    "    MEarth = 1.*cds.Mgeo\n",
    "    REarth = 1.*cds.Rgeo\n",
    "    \n",
    "    return ((Mcore/MEarth).value)**(0.25)*REarth\n",
    "\n",
    "def Lopez_Renv(Mp, fenv=0.05, Fp=1., age=5e9*u.year):\n",
    "    MEarth = 1.*cds.Mgeo\n",
    "    fenv_baseline = 0.05\n",
    "    Fp_baseline = 1.\n",
    "    age_baseline = 5e9*u.year\n",
    "    \n",
    "    return 2.06*cds.Rgeo*((Mp/MEarth).value)**(-0.21)*\\\n",
    "            (fenv/fenv_baseline)**(0.59)*\\\n",
    "            (Fp/Fp_baseline)**(0.044)*\\\n",
    "            ((age/age_baseline).value)**(-0.18)\n",
    "\n",
    "#Ignores the apparently small contribution from the radiative exterior\n",
    "def Lopez_superearth_radius(Mp, fenv=0.05, Fp=1., age=5e9*u.year):\n",
    "    Mcore = (1. - fenv)*Mp\n",
    "#    Mcore = Mp\n",
    "    Rcore = Lopez_core_radius(Mcore)\n",
    "    \n",
    "    Renv = Lopez_Renv(Mp, fenv=fenv, Fp=Fp, age=age)\n",
    "    \n",
    "    return (Rcore + Renv).value"
   ]
  },
  {
   "cell_type": "code",
   "execution_count": 8,
   "metadata": {
    "collapsed": false
   },
   "outputs": [],
   "source": [
    "num_samples = 100\n",
    "\n",
    "#Mcores = 10**(np.linspace(0., 2., num_samples))*cds.Mgeo\n",
    "Mcores = 10**(np.linspace(-1., 2., num_samples))*cds.Mgeo\n",
    "fenvs = 10**(np.linspace(-3., 0., num_samples + 1))\n",
    "#Drop the very last one so I don't get a divide-by-zero error\n",
    "fenvs = fenvs[:-1]\n",
    "\n",
    "density = np.empty((len(Mcores), len(fenvs)))\n",
    "Ps_Roche = np.empty((len(Mcores), len(fenvs)))\n",
    "Mps = np.empty((len(Mcores), len(fenvs)))\n",
    "Rps = np.empty((len(Mcores), len(fenvs)))\n",
    "for i in range(len(Mcores)):\n",
    "    for j in range(len(fenvs)):\n",
    "        \n",
    "        cur_Mp = Mcores[i]/(1. - fenvs[j])\n",
    "        Mps[i,j] = cur_Mp.value\n",
    "        cur_Rp = Lopez_superearth_radius(cur_Mp, fenv=fenvs[j], age=30e6*u.year)*cds.Rgeo\n",
    "        Rps[i,j] = cur_Rp.value\n",
    "        density[i,j] = (cur_Mp/(4.*np.pi/3.*(cur_Rp)**3)).to('g/cm^3').value\n",
    "        Ps_Roche[i,j] = Rappaport_Roche_limit(rhop=density[i,j]*u.g/u.cm**3, incompressible=False).to('hour').value\n",
    "\n",
    "fenvs = np.outer(np.ones_like(fenvs), fenvs)\n",
    "Mcores = np.outer(Mcores, np.ones_like(Mcores))\n",
    "\n",
    "# fig = plt.figure(figsize=(9*aspect_ratio, 9))\n",
    "# ax = fig.add_subplot(111)\n",
    "\n",
    "# lvls = [0.25, 0.5, 1.]\n",
    "# density_lvls = Rappaport_Roche_limit(rhop=lvls*u.g/u.cm**3, incompressible=False).to('hour').value\n",
    "# #locs = [(0.5, -1.25), (0.5, -1.25), (0.5, -1.5), (0.5, -2.25), (1.25, -2)]\n",
    "# locs = [(1.1, -1.), (1.2, -1.25), (1.2, -1.5)]\n",
    "# fmt = {lvls[0]: '$%.2f\\ {\\\\rm g/cm^3}$ - $%i\\ {\\\\rm hrs}$' % (lvls[0], density_lvls[0])}\n",
    "# fmt.update({lvls[i]: '%.1f - %i' % (lvls[i], density_lvls[i]) for i in range(1, len(lvls))})\n",
    "# CS = ax.contour(np.log10(Mcores), np.log10(fenvs), density, levels=lvls, cmap='copper', linewidths=6)\n",
    "# ax.clabel(CS, inline=1, fontsize=24, fmt=fmt, manual=locs)\n",
    "\n",
    "# #GJ 1214 b -- https://en.wikipedia.org/wiki/Gliese_1214_b\n",
    "# # Mp_lvls = [6.55]\n",
    "# # Rp_lvls = [2.678]\n",
    "# P_lvls = [1.58040456*24.]\n",
    "# #\n",
    "# #From Lopez & Fortney\n",
    "# #fenv = 0.0383\n",
    "# fenv = 0.00678 #The result using the new fiducial age of 30 Myrs, see below\n",
    "# Mcore = 6.46*(1. - fenv)\n",
    "# density = 1.870 #Wikipedia\n",
    "# ax.axvline(np.log10(Mcore), zorder=-1, color='blue', lw=6, ls='--')\n",
    "# ax.text(np.log10(Mcore)*0.88, -2.25, 'GJ 1214 b', rotation='vertical', color='blue', fontsize=24)\n",
    "# CS = ax.contour(np.log10(Mcores), np.log10(fenvs), Ps_Roche, colors='blue', levels=P_lvls, linestyles='--', linewidths=6)\n",
    "# fmt = {P_lvls[0]: '$%.1f\\ {\\\\rm hrs}$' % P_lvls[0]}\n",
    "# locs = [(0.4, -1.25)]\n",
    "# ax.clabel(CS, inline=1, fontsize=24, fmt=fmt, manual=locs)\n",
    "# #ax.text(0.25, -0.55, '%i hours' % P_lvls[0], rotation=40, fontsize=24, color='b')\n",
    "\n",
    "# #Kepler-21 b\n",
    "# P_lvls = [exoplanets_table['PER'][exoplanets_table['NAME'] == 'Kepler-21 b']*24.]\n",
    "# fenv = exoplanets_table['fenv'][exoplanets_table['NAME'] == 'Kepler-21 b'] #The result using the new fiducial age of 30 Myrs, see below\n",
    "# Mcore = exoplanets_table['Mcore'][exoplanets_table['NAME'] == 'Kepler-21 b']\n",
    "# ax.axvline(np.log10(Mcore), zorder=-1, color='red', lw=6, ls='-.')\n",
    "# ax.text(np.log10(Mcore)*0.88, -2.25, 'Kepler-21 b', rotation='vertical', color='red', fontsize=24)\n",
    "# CS = ax.contour(np.log10(Mcores), np.log10(fenvs), Ps_Roche, colors='red', levels=P_lvls, linestyles='-.', linewidths=6)\n",
    "# fmt = '$%.1f\\ {\\\\rm hrs}$'\n",
    "# locs = [(0.4, -1.25)]\n",
    "# ax.clabel(CS, inline=1, fontsize=24, fmt=fmt, manual=locs)\n",
    "\n",
    "# #CoRoT-7 b -- Lopez & Fortney (2013)\n",
    "# # Mcore = 7.42\n",
    "# # P_lvls = [0.853585*24.]\n",
    "# # ax.axvline(np.log10(Mcore), color='red', zorder=-1, linestyle='-.', linewidth=6)\n",
    "# # ax.text(np.log10(Mcore)*1.02, -2.25, 'CoRoT-7 b', rotation='vertical', color='red', fontsize=24)\n",
    "# # CS = ax.contour(np.log10(Mcores), np.log10(fenvs), Ps_Roche, colors='red', levels=P_lvls, linestyles='-.', linewidths=6)\n",
    "# # ax.text(0.25, -0.9, '%i hours' % P_lvls[0], rotation=30, fontsize=24, color='r')\n",
    "\n",
    "# #Kepler-446 b -- http://exoplanets.org/detail/Kepler-446_b\n",
    "# # Mcore = 3.657\n",
    "# # ax.axvline(np.log10(Mcore), color='red')\n",
    "# # CS = ax.contour(np.log10(Mcores), np.log10(fenvs), Ps_Roche, colors='blue', linewidths=8, levels=P_lvls)\n",
    "# # Rp_lvls = [2.678]\n",
    "\n",
    "# #GJ 436 b -- https://en.wikipedia.org/wiki/Gliese_436_b\n",
    "# # Mcore = 23.0*(1. - 0.12)\n",
    "# # # Rp_lvls = [4.327]\n",
    "# # P_lvls = [2.643904*24.]\n",
    "# # ax.axvline(np.log10(Mcore), color='green', zorder=-1, linestyle=':', linewidth=6)\n",
    "# # ax.text(np.log10(Mcore)*0.93, -2, 'GJ 436 b', rotation='vertical', color='green', fontsize=24)\n",
    "# # CS = ax.contour(np.log10(Mcores), np.log10(fenvs), Ps_Roche, colors='green', levels=P_lvls, linestyles=':', linewidths=6)\n",
    "# # ax.text(0., -0.4, '%i hours' % P_lvls[0], rotation=45, fontsize=24, color='g')\n",
    "\n",
    "# #Kepler-78 b -- https://en.wikipedia.org/wiki/Kepler-78b\n",
    "# Mcore = 1.77\n",
    "# P_lvls = [0.355007*24.]\n",
    "# ax.axvline(np.log10(Mcore), color='green', zorder=-1, linestyle=':', linewidth=6)\n",
    "# ax.text(np.log10(Mcore)*1.1, -2.25, 'Kepler-78 b', rotation='vertical', color='green', fontsize=24)\n",
    "# CS = ax.contour(np.log10(Mcores), np.log10(fenvs), Ps_Roche, colors='green', levels=P_lvls, linestyles=':', linewidths=6)\n",
    "# fmt = {P_lvls[0]: '$%.1f\\ {\\\\rm hrs}$' % P_lvls[0]}\n",
    "# locs = [(1.5, -1.5)]\n",
    "# ax.clabel(CS, inline=1, fontsize=24, fmt=fmt, manual=locs)\n",
    "\n",
    "# ax.set_xlabel('$\\\\log_{10} \\\\left( M_{\\\\rm core}/{\\\\rm M_{Earth}}\\\\right)$', fontsize=36)\n",
    "# ax.set_ylabel('$\\\\log_{10}\\ f_{\\\\rm env}$', fontsize=36)\n",
    "\n",
    "# ax.set_xlim([0, 2])\n",
    "# ax.set_ylim([-3.1, 0.1])\n",
    "\n",
    "# #fig.savefig('LopezFortney2014_density-PRoche_contours.eps', dpi=1000, bbox_inches='tight')"
   ]
  },
  {
   "cell_type": "code",
   "execution_count": 9,
   "metadata": {
    "collapsed": true
   },
   "outputs": [],
   "source": [
    "def find_turnover_Mcore(period):\n",
    "    c = cntr.Cntr(Mcores, fenvs, Ps_Roche)\n",
    "    \n",
    "    if(len(c.trace(period)) == 0.):\n",
    "        return 0.\n",
    "    \n",
    "    Mcores_P, fenvs_P = (c.trace(period))[0].T\n",
    "    return Mcores_P.max()"
   ]
  },
  {
   "cell_type": "code",
   "execution_count": 10,
   "metadata": {
    "collapsed": true
   },
   "outputs": [],
   "source": [
    "periods = (np.linspace(3., 200., 198))[::-1]\n",
    "turnover_Mcores = np.zeros_like(periods)\n",
    "for i in range(len(periods)):\n",
    "    turnover_Mcores[i] = find_turnover_Mcore(periods[i])"
   ]
  },
  {
   "cell_type": "code",
   "execution_count": 22,
   "metadata": {
    "collapsed": false
   },
   "outputs": [
    {
     "data": {
      "text/plain": [
       "<matplotlib.lines.Line2D at 0x114a55f10>"
      ]
     },
     "execution_count": 22,
     "metadata": {},
     "output_type": "execute_result"
    },
    {
     "data": {
      "image/png": "[encoded data removed]",
      "text/plain": [
       "<matplotlib.figure.Figure at 0x1119be510>"
      ]
     },
     "metadata": {},
     "output_type": "display_data"
    }
   ],
   "source": [
    "#Convert from Mcore to PRoche, max\n",
    "def find_turnover_period(Mcore):\n",
    "    return np.interp(Mcore, turnover_Mcores, periods)\n",
    "\n",
    "#Values from Lopez-Morales+ (2016 -- https://arxiv.org/pdf/1609.07617v1.pdf)\n",
    "best_fit_mass = 5.1 #Earth masses\n",
    "mass_uncertainty = 1.7 \n",
    "Kepler21_mass_range = np.linspace(best_fit_mass - mass_uncertainty, best_fit_mass + mass_uncertainty, 100)\n",
    "period = 2.7857\n",
    "\n",
    "fig = plt.figure(figsize=(6,6))\n",
    "ax = fig.add_subplot(111)\n",
    "\n",
    "ax.plot(Kepler21_mass_range, find_turnover_period(Kepler21_mass_range)/24., lw=6)\n",
    "ax.tick_params(labelsize=18)\n",
    "ax.set_xlabel(\"$M_{\\\\rm K-21 b}\\ ({\\\\rm M_{Earth}}}$)\", fontsize=24)\n",
    "ax.set_ylabel(\"expected $P\\ ({\\\\rm days}}$)\", fontsize=24)\n",
    "\n",
    "ax.axvline(best_fit_mass, color='black', ls='--')\n",
    "ax.axhline(period, color='black', ls='--')\n",
    "\n",
    "fig.savefig('Kepler-21b_Expected_Period.png', dpi=500, bbox_inches='tight')"
   ]
  }
 ],
 "metadata": {
  "kernelspec": {
   "display_name": "Python 2",
   "language": "python",
   "name": "python2"
  },
  "language_info": {
   "codemirror_mode": {
    "name": "ipython",
    "version": 2
   },
   "file_extension": ".py",
   "mimetype": "text/x-python",
   "name": "python",
   "nbconvert_exporter": "python",
   "pygments_lexer": "ipython2",
   "version": "2.7.11"
  }
 },
 "nbformat": 4,
 "nbformat_minor": 0
}
